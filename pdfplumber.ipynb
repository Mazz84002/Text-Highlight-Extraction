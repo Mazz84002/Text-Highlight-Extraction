{
 "cells": [
  {
   "cell_type": "code",
   "execution_count": null,
   "metadata": {},
   "outputs": [],
   "source": [
    "#%pip install pdfplumber"
   ]
  },
  {
   "cell_type": "code",
   "execution_count": 15,
   "metadata": {},
   "outputs": [],
   "source": [
    "import pdfplumber"
   ]
  },
  {
   "cell_type": "markdown",
   "metadata": {},
   "source": [
    "## Extracting Text"
   ]
  },
  {
   "cell_type": "code",
   "execution_count": 16,
   "metadata": {},
   "outputs": [
    {
     "name": "stdout",
     "output_type": "stream",
     "text": [
      "---------------------------- text ---------------------------\n",
      "Germany is a country located in Central Europe, which is officially named the Federal Republic \n",
      "of Germany (Bundesrepublik Deutschland). On October 3, 1990 Germany's East and West \n",
      "became one nation under unification, the capital city now being Berlin. Germany has the \n",
      "second largest population in Europe with eighty two million, next to that of the Soviet Union. \n",
      "Germany's land borders are with Denmark on the north, the Netherlands, Belgium, \n",
      "Luxemborg, and France on the west, Switzerland and Austria on the south, and Czechoslovakia \n",
      "and Poland on the east and southeast. The present leader of Germany is Chancellor Gerhard \n",
      "Schroeder, who was elected October 27, 1998 and is now serving his second term in office. \n",
      "Germany's currency is the \"Euro,\" which is a common currency among twelve other European \n",
      "nations. Germany's flag consists of three equal horozontal strips of black, red, and gold. The \n",
      "flag symbolizes German unity. Germans believe the colors in the flag have a meaning, black \n",
      "represents \"out of the darkness,\" red represents \"through blood\", and finally gold which \n",
      "represents \"into sunshine.\" The flag was adopted in 1990 when East and West Germany unified. \n"
     ]
    }
   ],
   "source": [
    "with pdfplumber.open('/Users/mazz/Documents/Programming/Python/Spacy/data/Germany.pdf') as pdf:\n",
    "    first_page = pdf.pages[0]\n",
    "    second_page = pdf.pages[1]\n",
    "    third_page = pdf.pages[2]\n",
    "    text = first_page.extract_text()\n",
    "    print(\"---------------------------- text ---------------------------\")\n",
    "    print(text)"
   ]
  },
  {
   "cell_type": "code",
   "execution_count": 17,
   "metadata": {},
   "outputs": [
    {
     "name": "stdout",
     "output_type": "stream",
     "text": [
      "{'matrix': (1, 0, 0, 1, 56.8, 773.389), 'fontname': 'BAAAAA+SourceSerifPro-Regular', 'adv': 7.774800000000001, 'upright': True, 'x0': 56.8, 'y0': 769.57, 'x1': 64.5748, 'y1': 780.97, 'width': 7.774799999999999, 'height': 11.399999999999977, 'size': 11.399999999999977, 'object_type': 'char', 'page_number': 1, 'text': 'G', 'stroking_color': None, 'non_stroking_color': (0.262745098, 0.3137254901, 0.3490196078), 'top': 60.91976377952801, 'bottom': 72.31976377952799, 'doctop': 60.91976377952801}\n",
      "G\n"
     ]
    }
   ],
   "source": [
    "print(first_page.chars[0])\n",
    "print(first_page.chars[0]['text'])"
   ]
  },
  {
   "cell_type": "markdown",
   "metadata": {},
   "source": [
    "### Current Transformation matrix"
   ]
  },
  {
   "cell_type": "code",
   "execution_count": 18,
   "metadata": {},
   "outputs": [
    {
     "name": "stdout",
     "output_type": "stream",
     "text": [
      "CTM(a=1, b=0, c=0, d=1, e=56.8, f=773.389)\n",
      "0.0\n"
     ]
    }
   ],
   "source": [
    "from pdfplumber.ctm import CTM\n",
    "my_char = first_page.chars[0]\n",
    "char_ctm = CTM(*my_char[\"matrix\"])\n",
    "char_rotation = char_ctm.skew_x\n",
    "print(char_ctm)\n",
    "print(char_rotation)"
   ]
  },
  {
   "cell_type": "code",
   "execution_count": 19,
   "metadata": {},
   "outputs": [
    {
     "name": "stdout",
     "output_type": "stream",
     "text": [
      "['Germany is a country located in Central Europe, which is officially named the Federal Republic ', \"of Germany (Bundesrepublik Deutschland). On October 3, 1990 Germany's East and West \", 'became one nation under unification, the capital city now being Berlin. Germany has the ', 'second largest population in Europe with eighty two million, next to that of the Soviet Union. ', \"Germany's land borders are with Denmark on the north, the Netherlands, Belgium, \", 'Luxemborg, and France on the west, Switzerland and Austria on the south, and Czechoslovakia ', 'and Poland on the east and southeast. The present leader of Germany is Chancellor Gerhard ', 'Schroeder, who was elected October 27, 1998 and is now serving his second term in office. ', 'Germany\\'s currency is the \"Euro,\" which is a common currency among twelve other European ', \"nations. Germany's flag consists of three equal horozontal strips of black, red, and gold. The \", 'flag symbolizes German unity. Germans believe the colors in the flag have a meaning, black ', 'represents \"out of the darkness,\" red represents \"through blood\", and finally gold which ', 'represents \"into sunshine.\" The flag was adopted in 1990 when East and West Germany unified. ']\n"
     ]
    }
   ],
   "source": [
    "rows = []\n",
    "for row in text.split('\\n'):\n",
    "    rows.append(row)\n",
    "print(rows)"
   ]
  },
  {
   "cell_type": "markdown",
   "metadata": {},
   "source": [
    "## `.pdf` class"
   ]
  },
  {
   "cell_type": "code",
   "execution_count": 20,
   "metadata": {},
   "outputs": [
    {
     "name": "stdout",
     "output_type": "stream",
     "text": [
      "{'CreationDate': \"D:20220928160056+05'30'\", 'Creator': 'Writer', 'ModDate': \"D:20220928162906+05'30'\", 'Producer': 'LibreOffice 7.4'}\n"
     ]
    }
   ],
   "source": [
    "from pdfplumber.pdf import PDF\n",
    "print(pdf.metadata)"
   ]
  },
  {
   "cell_type": "code",
   "execution_count": 21,
   "metadata": {},
   "outputs": [
    {
     "name": "stdout",
     "output_type": "stream",
     "text": [
      "[<Page:1>, <Page:2>, <Page:3>]\n"
     ]
    }
   ],
   "source": [
    "print(pdf.pages)"
   ]
  },
  {
   "cell_type": "markdown",
   "metadata": {},
   "source": [
    "## `.page`"
   ]
  },
  {
   "cell_type": "code",
   "execution_count": 22,
   "metadata": {},
   "outputs": [
    {
     "name": "stdout",
     "output_type": "stream",
     "text": [
      "841.889763779528\n",
      "595.303937007874\n"
     ]
    }
   ],
   "source": [
    "from pdfplumber.page import Page\n",
    "print(first_page.height)\n",
    "print(first_page.width)"
   ]
  },
  {
   "cell_type": "code",
   "execution_count": 23,
   "metadata": {},
   "outputs": [
    {
     "name": "stdout",
     "output_type": "stream",
     "text": [
      "1\n"
     ]
    }
   ],
   "source": [
    "print(first_page.page_number)"
   ]
  },
  {
   "cell_type": "code",
   "execution_count": 24,
   "metadata": {},
   "outputs": [
    {
     "name": "stdout",
     "output_type": "stream",
     "text": [
      "[]\n",
      "[]\n",
      "[]\n"
     ]
    }
   ],
   "source": [
    "print(first_page.lines)\n",
    "print(first_page.rects)\n",
    "print(first_page.curves)"
   ]
  },
  {
   "cell_type": "markdown",
   "metadata": {},
   "source": [
    "### Image and Visual Debugging"
   ]
  },
  {
   "cell_type": "code",
   "execution_count": 25,
   "metadata": {},
   "outputs": [
    {
     "name": "stdout",
     "output_type": "stream",
     "text": [
      "[{'x0': 56.7, 'y0': 217.339, 'x1': 538.6, 'y1': 506.489, 'width': 481.90000000000003, 'height': 289.15, 'name': 'Im4', 'stream': <PDFStream(4): raw=6446, {'Type': /'XObject', 'Subtype': /'Image', 'Width': 1200, 'Height': 720, 'BitsPerComponent': 8, 'ColorSpace': /'DeviceRGB', 'Filter': /'DCTDecode', 'Length': 6446}>, 'srcsize': (1200, 720), 'imagemask': None, 'bits': 8, 'colorspace': [/'DeviceRGB'], 'object_type': 'image', 'page_number': 1, 'top': 335.40076377952806, 'bottom': 624.5507637795281, 'doctop': 335.40076377952806}]\n"
     ]
    }
   ],
   "source": [
    "print(first_page.images)"
   ]
  },
  {
   "cell_type": "code",
   "execution_count": 26,
   "metadata": {},
   "outputs": [
    {
     "data": {
      "text/plain": [
       "{'x0': 56.7,\n",
       " 'y0': 217.339,\n",
       " 'x1': 538.6,\n",
       " 'y1': 506.489,\n",
       " 'width': 481.90000000000003,\n",
       " 'height': 289.15,\n",
       " 'name': 'Im4',\n",
       " 'stream': <PDFStream(4): raw=6446, {'Type': /'XObject', 'Subtype': /'Image', 'Width': 1200, 'Height': 720, 'BitsPerComponent': 8, 'ColorSpace': /'DeviceRGB', 'Filter': /'DCTDecode', 'Length': 6446}>,\n",
       " 'srcsize': (1200, 720),\n",
       " 'imagemask': None,\n",
       " 'bits': 8,\n",
       " 'colorspace': [/'DeviceRGB'],\n",
       " 'object_type': 'image',\n",
       " 'page_number': 1,\n",
       " 'top': 335.40076377952806,\n",
       " 'bottom': 624.5507637795281,\n",
       " 'doctop': 335.40076377952806}"
      ]
     },
     "execution_count": 26,
     "metadata": {},
     "output_type": "execute_result"
    }
   ],
   "source": [
    "first_page.images[0]"
   ]
  },
  {
   "cell_type": "code",
   "execution_count": null,
   "metadata": {},
   "outputs": [],
   "source": [
    "image = first_page.images[0]\n",
    "page_height = first_page.height\n",
    "image_bbox = (image['x0'], page_height - image['y1'], image['x1'], page_height - image['y0'])\n",
    "cropped_page = first_page.crop(image_bbox)\n",
    "image_obj = cropped_page.to_image(resolution=400)"
   ]
  },
  {
   "cell_type": "markdown",
   "metadata": {},
   "source": [
    "## Extracting Table"
   ]
  },
  {
   "cell_type": "code",
   "execution_count": 32,
   "metadata": {},
   "outputs": [],
   "source": [
    "with pdfplumber.open('/Users/mazz/Documents/Programming/Python/Spacy/data/Germany.pdf') as pdf:\n",
    "    second_page = pdf.pages[1]\n",
    "    table = second_page.extract_table()"
   ]
  },
  {
   "cell_type": "code",
   "execution_count": 33,
   "metadata": {},
   "outputs": [
    {
     "data": {
      "text/plain": [
       "[['h', 'zvrt', 'n', '4', 'Few', 'rgsbsger', 'cjhv', 'sHGV'],\n",
       " ['5', 'svga', 'tnrtn', 'q', 'qedawD', 'erververv', 'hgdvxauw', '3'],\n",
       " ['9', '', 'aebvaeb', 'w', 'q', 'jhcbjhC', 'cjhvc', 'JHCVAW']]"
      ]
     },
     "execution_count": 33,
     "metadata": {},
     "output_type": "execute_result"
    }
   ],
   "source": [
    "table[:3]"
   ]
  },
  {
   "cell_type": "code",
   "execution_count": 30,
   "metadata": {},
   "outputs": [
    {
     "data": {
      "text/plain": [
       "{'ADBE_FillSignInfo': {'Version': 100},\n",
       " 'Lang': b'en-IN',\n",
       " 'Metadata': <PDFObjRef:78>,\n",
       " 'OCProperties': {'D': {'ON': [<PDFObjRef:87>], 'Order': [], 'RBGroups': []},\n",
       "  'OCGs': [<PDFObjRef:87>]},\n",
       " 'OpenAction': [<PDFObjRef:1>, /'XYZ', None, None, 0],\n",
       " 'Pages': <PDFObjRef:14>,\n",
       " 'Type': /'Catalog'}"
      ]
     },
     "execution_count": 30,
     "metadata": {},
     "output_type": "execute_result"
    }
   ],
   "source": [
    "pdf.doc.catalog"
   ]
  }
 ],
 "metadata": {
  "kernelspec": {
   "display_name": "Python 3.9.12 ('NLP_env')",
   "language": "python",
   "name": "python3"
  },
  "language_info": {
   "codemirror_mode": {
    "name": "ipython",
    "version": 3
   },
   "file_extension": ".py",
   "mimetype": "text/x-python",
   "name": "python",
   "nbconvert_exporter": "python",
   "pygments_lexer": "ipython3",
   "version": "3.9.12"
  },
  "orig_nbformat": 4,
  "vscode": {
   "interpreter": {
    "hash": "aeac2e3bda9c9b9f52dc0feb8ae0ec0004b64d023d9de9151496b374116c77d1"
   }
  }
 },
 "nbformat": 4,
 "nbformat_minor": 2
}
